{
 "cells": [
  {
   "cell_type": "markdown",
   "id": "d75545f0",
   "metadata": {},
   "source": [
    "# IMPORTS"
   ]
  },
  {
   "cell_type": "code",
   "execution_count": 12,
   "id": "fdda4195",
   "metadata": {},
   "outputs": [],
   "source": [
    "import cv2\n",
    "from cv2 import *\n",
    "import tensorflow as tf\n",
    "import matplotlib.pyplot as plt\n",
    "import numpy as np\n",
    "import keras"
   ]
  },
  {
   "cell_type": "code",
   "execution_count": 13,
   "id": "8c1e8887",
   "metadata": {},
   "outputs": [
    {
     "name": "stdout",
     "output_type": "stream",
     "text": [
      "WARNING:tensorflow:Using a while_loop for converting RngReadAndSkip cause there is no registered converter for this op.\n",
      "WARNING:tensorflow:Using a while_loop for converting Bitcast cause there is no registered converter for this op.\n",
      "WARNING:tensorflow:Using a while_loop for converting Bitcast cause there is no registered converter for this op.\n",
      "WARNING:tensorflow:Using a while_loop for converting StatelessRandomUniformV2 cause there is no registered converter for this op.\n",
      "WARNING:tensorflow:Using a while_loop for converting ImageProjectiveTransformV3 cause there is no registered converter for this op.\n",
      "WARNING:tensorflow:Using a while_loop for converting RngReadAndSkip cause there is no registered converter for this op.\n",
      "WARNING:tensorflow:Using a while_loop for converting Bitcast cause there is no registered converter for this op.\n",
      "WARNING:tensorflow:Using a while_loop for converting Bitcast cause there is no registered converter for this op.\n",
      "WARNING:tensorflow:Using a while_loop for converting StatelessRandomUniformV2 cause there is no registered converter for this op.\n",
      "WARNING:tensorflow:Using a while_loop for converting ImageProjectiveTransformV3 cause there is no registered converter for this op.\n"
     ]
    }
   ],
   "source": [
    "model=keras.models.load_model('model_plant.h5')"
   ]
  },
  {
   "cell_type": "code",
   "execution_count": 11,
   "id": "432822da",
   "metadata": {},
   "outputs": [
    {
     "data": {
      "text/plain": [
       "str"
      ]
     },
     "execution_count": 11,
     "metadata": {},
     "output_type": "execute_result"
    }
   ],
   "source": [
    "import time\n",
    "timestr = time.strftime(\"%Y%m%d-%H%M%S\")\n",
    "st='potato'+timestr+'.png'\n",
    "type(st)"
   ]
  },
  {
   "cell_type": "code",
   "execution_count": 19,
   "id": "54d56ca0",
   "metadata": {},
   "outputs": [],
   "source": [
    "import time\n",
    "timestr = time.strftime(\"%Y%m%d-%H%M%S\")\n",
    "\n",
    "capture=cv2.VideoCapture(0)\n",
    "result,img=capture.read()\n",
    "if result:\n",
    "    cv2.imshow('Captured Image',img)\n",
    "    img_name='Potato'+timestr+'.png'\n",
    "    cv2.imwrite(img_name,img)\n",
    "    waitKey(0)\n",
    "    destroyWindow('Captured Image')\n",
    "    \n",
    "else:\n",
    "    print('Could not access camera' )\n",
    "capture.release()\n",
    "#capture.destroyAllWindows()"
   ]
  },
  {
   "cell_type": "code",
   "execution_count": 20,
   "id": "3d536d34",
   "metadata": {},
   "outputs": [],
   "source": [
    "img_arr=cv2.imread(img_name)\n",
    "resize=cv2.resize(img_arr,(256,256))\n",
    "def prediction(model,img):\n",
    "  img_arr=tf.keras.preprocessing.image.img_to_array(img)\n",
    "  img_arr=tf.expand_dims(img_arr,0)\n",
    "  predict=model.predict(img_arr)\n",
    "  pred_class=np.argmax(predict[0])\n",
    "  return pred_class"
   ]
  },
  {
   "cell_type": "code",
   "execution_count": 21,
   "id": "d0fc50f3",
   "metadata": {},
   "outputs": [
    {
     "name": "stdout",
     "output_type": "stream",
     "text": [
      "1/1 [==============================] - 0s 40ms/step\n"
     ]
    },
    {
     "data": {
      "text/plain": [
       "2"
      ]
     },
     "execution_count": 21,
     "metadata": {},
     "output_type": "execute_result"
    }
   ],
   "source": [
    "pred_class=prediction(model,resize)\n",
    "pred_class"
   ]
  }
 ],
 "metadata": {
  "kernelspec": {
   "display_name": "Python 3 (ipykernel)",
   "language": "python",
   "name": "python3"
  },
  "language_info": {
   "codemirror_mode": {
    "name": "ipython",
    "version": 3
   },
   "file_extension": ".py",
   "mimetype": "text/x-python",
   "name": "python",
   "nbconvert_exporter": "python",
   "pygments_lexer": "ipython3",
   "version": "3.9.13"
  }
 },
 "nbformat": 4,
 "nbformat_minor": 5
}
